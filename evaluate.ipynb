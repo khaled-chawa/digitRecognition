{
 "cells": [
  {
   "cell_type": "code",
   "execution_count": 35,
   "metadata": {},
   "outputs": [],
   "source": [
    "from torchvision import datasets\n",
    "from torchvision.transforms import ToTensor\n",
    "from torch.utils.data import DataLoader\n",
    "import torch\n",
    "import torch.nn as nn\n",
    "from model import Net"
   ]
  },
  {
   "cell_type": "code",
   "execution_count": 36,
   "metadata": {},
   "outputs": [],
   "source": [
    "test_data = datasets.MNIST(\n",
    "    root = 'data',\n",
    "    train = False,\n",
    "    transform = ToTensor(),\n",
    "    download = True\n",
    ")"
   ]
  },
  {
   "cell_type": "code",
   "execution_count": 37,
   "metadata": {},
   "outputs": [],
   "source": [
    "test_loader = DataLoader(test_data, batch_size=100, shuffle=True, num_workers=1)"
   ]
  },
  {
   "cell_type": "code",
   "execution_count": 38,
   "metadata": {},
   "outputs": [
    {
     "data": {
      "text/plain": [
       "<All keys matched successfully>"
      ]
     },
     "execution_count": 38,
     "metadata": {},
     "output_type": "execute_result"
    }
   ],
   "source": [
    "model = Net()\n",
    "model.load_state_dict(torch.load('model_weights.pth'))"
   ]
  },
  {
   "cell_type": "code",
   "execution_count": 39,
   "metadata": {},
   "outputs": [],
   "source": [
    "device = torch.device('cuda' if torch.cuda.is_available() else 'cpu') # I don't have gpu :(\n",
    "\n",
    "loss_fn = nn.CrossEntropyLoss()\n",
    "\n",
    "def test():\n",
    "    model.eval()\n",
    "\n",
    "    test_loss = 0\n",
    "    correct = 0\n",
    "\n",
    "    true_positives = {i: 0 for i in range(10)}  # 10 classes for digits 0-9\n",
    "    total_predicted_positives = {i: 0 for i in range(10)}\n",
    "\n",
    "\n",
    "    with torch.no_grad():\n",
    "        for data, target in test_loader:\n",
    "            data, target = data.to(device), target.to(device)\n",
    "\n",
    "            output = model(data)\n",
    "            test_loss += loss_fn(output, target).item()\n",
    "            pred =  output.argmax(dim=1, keepdim=True)\n",
    "            correct += pred.eq(target.view_as(pred)).sum().item()\n",
    "\n",
    "            for i in range (10):\n",
    "                # Calculate true positives for class i\n",
    "                # true_positives[i] += ((pred == i) & (target == i)).sum().item()\n",
    "                # true_positives[i] += ((pred == i) & (target == i))\n",
    "                # Calculate total predicted positives for class i\n",
    "                # total_predicted_positives[i] += (pred == i).sum().item()\n",
    "                # total_predicted_positives[i] += (pred == i & 1)\n",
    "\n",
    "                for j in range (len(pred)):\n",
    "                    if pred[j] == i:\n",
    "                        total_predicted_positives[i] += 1\n",
    "                        if target[j] == i:\n",
    "                            true_positives[i] += 1\n",
    "\n",
    "    test_loss /= len(test_loader.dataset)\n",
    "\n",
    "    print(f'Average loss: {test_loss:.4f}')\n",
    "    print(f'Accuracy: {correct} / {len(test_loader.dataset)} ({100. * correct / len(test_loader.dataset):0.0f}%)')\n",
    "    \n",
    "    # Calculating the precision of each class and printing it\n",
    "    precision = {}\n",
    "    for i in range(10):\n",
    "        if total_predicted_positives[i] == 0:\n",
    "            precision[i] = 0.0\n",
    "        else:\n",
    "            precision[i] = true_positives[i] / total_predicted_positives[i]\n",
    "\n",
    "        print(f'Precision for class {i}: {precision[i]}')"
   ]
  },
  {
   "cell_type": "code",
   "execution_count": 40,
   "metadata": {},
   "outputs": [
    {
     "name": "stderr",
     "output_type": "stream",
     "text": [
      "/Users/kc/digitRecognition/model.py:24: UserWarning: Implicit dimension choice for softmax has been deprecated. Change the call to include dim=X as an argument.\n",
      "  return F.softmax(x)\n"
     ]
    },
    {
     "name": "stdout",
     "output_type": "stream",
     "text": [
      "Average loss: 0.0149\n",
      "Accuracy: 9760 / 10000 (98%)\n",
      "Precision for class 0: 0.971028971028971\n",
      "Precision for class 1: 0.9929203539823008\n",
      "Precision for class 2: 0.9691119691119691\n",
      "Precision for class 3: 0.9781094527363184\n",
      "Precision for class 4: 0.9777777777777777\n",
      "Precision for class 5: 0.9807909604519774\n",
      "Precision for class 6: 0.9822175732217573\n",
      "Precision for class 7: 0.9587727708533078\n",
      "Precision for class 8: 0.9730569948186528\n",
      "Precision for class 9: 0.9757330637007078\n"
     ]
    }
   ],
   "source": [
    "test()"
   ]
  },
  {
   "cell_type": "code",
   "execution_count": null,
   "metadata": {},
   "outputs": [],
   "source": []
  }
 ],
 "metadata": {
  "kernelspec": {
   "display_name": "digitRecognitionVenv",
   "language": "python",
   "name": "python3"
  },
  "language_info": {
   "codemirror_mode": {
    "name": "ipython",
    "version": 3
   },
   "file_extension": ".py",
   "mimetype": "text/x-python",
   "name": "python",
   "nbconvert_exporter": "python",
   "pygments_lexer": "ipython3",
   "version": "3.11.2"
  }
 },
 "nbformat": 4,
 "nbformat_minor": 2
}
